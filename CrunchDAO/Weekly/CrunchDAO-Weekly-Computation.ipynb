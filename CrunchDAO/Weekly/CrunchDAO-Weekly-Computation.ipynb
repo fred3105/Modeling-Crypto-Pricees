{
 "cells": [
  {
   "attachments": {},
   "cell_type": "markdown",
   "metadata": {},
   "source": [
    "[![Open In Colab](https://colab.research.google.com/assets/colab-badge.svg)](https://githubtocolab.com/crunchdao/datacrunch-notebooks/blob/master/python/quickstarter_notebook.ipynb)"
   ]
  },
  {
   "attachments": {},
   "cell_type": "markdown",
   "metadata": {
    "id": "zWSL6fNAgJL_"
   },
   "source": [
    "# QuickStarter for the DataCrunch tournament \n",
    "\n",
    "## Basic steps and workflow:\n",
    "\n",
    "0. Using this notebook\n",
    "\n",
    "1. Download data\n",
    "\n",
    "2. Explore data\n",
    "\n",
    "3. Select a model\n",
    "\n",
    "4. Scoring\n",
    "\n",
    "5. Train / validation split\n",
    "\n",
    "6. Train your model \n",
    "\n",
    "7. Make prediction\n",
    "\n",
    "8. Submit"
   ]
  },
  {
   "attachments": {},
   "cell_type": "markdown",
   "metadata": {},
   "source": [
    "---"
   ]
  },
  {
   "attachments": {},
   "cell_type": "markdown",
   "metadata": {
    "id": "-KuT0lsYgSV6",
    "tags": []
   },
   "source": [
    "## 0. Using this notebook \n",
    "\n",
    "To execute the cell press `shift+enter`. \n",
    "\n",
    "Follow the steps and login with your Google account."
   ]
  },
  {
   "cell_type": "code",
   "execution_count": 1,
   "metadata": {
    "id": "iMwsPRjUayIr"
   },
   "outputs": [
    {
     "name": "stdout",
     "output_type": "stream",
     "text": [
      "Requirement already satisfied: crunchdao in /opt/homebrew/lib/python3.11/site-packages (0.4.0)\n",
      "Requirement already satisfied: holidays<0.24,>=0.23 in /opt/homebrew/lib/python3.11/site-packages (from crunchdao) (0.23)\n",
      "Requirement already satisfied: inflection<0.6.0,>=0.5.1 in /opt/homebrew/lib/python3.11/site-packages (from crunchdao) (0.5.1)\n",
      "Requirement already satisfied: pandas<2.0.0,>=1.3.5 in /opt/homebrew/lib/python3.11/site-packages (from crunchdao) (1.5.3)\n",
      "Requirement already satisfied: requests<3.0.0,>=2.27.0 in /opt/homebrew/lib/python3.11/site-packages (from crunchdao) (2.30.0)\n",
      "Requirement already satisfied: tqdm<5.0.0,>=4.62.3 in /opt/homebrew/lib/python3.11/site-packages (from crunchdao) (4.65.0)\n",
      "Requirement already satisfied: convertdate>=2.3.0 in /opt/homebrew/lib/python3.11/site-packages (from holidays<0.24,>=0.23->crunchdao) (2.4.0)\n",
      "Requirement already satisfied: hijri-converter in /opt/homebrew/lib/python3.11/site-packages (from holidays<0.24,>=0.23->crunchdao) (2.3.1)\n",
      "Requirement already satisfied: korean-lunar-calendar in /opt/homebrew/lib/python3.11/site-packages (from holidays<0.24,>=0.23->crunchdao) (0.3.1)\n",
      "Requirement already satisfied: python-dateutil in /opt/homebrew/lib/python3.11/site-packages (from holidays<0.24,>=0.23->crunchdao) (2.8.2)\n",
      "Requirement already satisfied: pytz>=2020.1 in /opt/homebrew/lib/python3.11/site-packages (from pandas<2.0.0,>=1.3.5->crunchdao) (2023.3)\n",
      "Requirement already satisfied: numpy>=1.21.0 in /opt/homebrew/lib/python3.11/site-packages (from pandas<2.0.0,>=1.3.5->crunchdao) (1.24.3)\n",
      "Requirement already satisfied: charset-normalizer<4,>=2 in /opt/homebrew/lib/python3.11/site-packages (from requests<3.0.0,>=2.27.0->crunchdao) (3.1.0)\n",
      "Requirement already satisfied: idna<4,>=2.5 in /opt/homebrew/lib/python3.11/site-packages (from requests<3.0.0,>=2.27.0->crunchdao) (3.4)\n",
      "Requirement already satisfied: urllib3<3,>=1.21.1 in /opt/homebrew/lib/python3.11/site-packages (from requests<3.0.0,>=2.27.0->crunchdao) (1.26.16)\n",
      "Requirement already satisfied: certifi>=2017.4.17 in /opt/homebrew/lib/python3.11/site-packages (from requests<3.0.0,>=2.27.0->crunchdao) (2023.5.7)\n",
      "Requirement already satisfied: pymeeus<=1,>=0.3.13 in /opt/homebrew/lib/python3.11/site-packages (from convertdate>=2.3.0->holidays<0.24,>=0.23->crunchdao) (0.5.12)\n",
      "Requirement already satisfied: six>=1.5 in /opt/homebrew/lib/python3.11/site-packages (from python-dateutil->holidays<0.24,>=0.23->crunchdao) (1.16.0)\n"
     ]
    }
   ],
   "source": [
    "# Install the crunchDAO package - credit to @uuazed. Check here: https://github.com/uuazed/crunchdao\n",
    "!pip install --upgrade crunchdao"
   ]
  },
  {
   "cell_type": "code",
   "execution_count": 111,
   "metadata": {
    "id": "QKQuFm3fdhmb"
   },
   "outputs": [],
   "source": [
    "# Lib & Dependencies\n",
    "import pandas as pd\n",
    "import numpy as np\n",
    "import xgboost as xgb\n",
    "import scipy\n",
    "\n",
    "import seaborn as sns\n",
    "import matplotlib.pyplot as plt\n",
    "\n",
    "import requests\n",
    "import gc\n",
    "\n",
    "import crunchdao\n",
    "import lightgbm as lgb\n",
    "from sklearn.model_selection import GridSearchCV"
   ]
  },
  {
   "attachments": {},
   "cell_type": "markdown",
   "metadata": {
    "id": "tGIYhesjk9FJ"
   },
   "source": [
    "Paste <u>your</u> API key here. If you don't have one, go to the API management section of your account: https://account.crunchdao.com/account/api"
   ]
  },
  {
   "cell_type": "code",
   "execution_count": 3,
   "metadata": {
    "id": "I-b1mwFAeewn"
   },
   "outputs": [],
   "source": [
    "client = crunchdao.Client(apikey=\"TFmGZ3pLNRllYyl8wGj0gO0IzskBY8v10kjVedWJBe2s9hSstzbyDwcDsrkpIqYMxO7pULSNsVIAvQeKUoxZwQAnzLVGqhYg3uEO5UYQ5oMJMAe0G18vwT4ksdh3AewF\") # <= Your API key here"
   ]
  },
  {
   "cell_type": "code",
   "execution_count": 4,
   "metadata": {
    "id": "mJIm2ClNehoQ"
   },
   "outputs": [
    {
     "data": {
      "text/plain": [
       "{'round': {'id': 156,\n",
       "  'number': 2,\n",
       "  'absoluteNumber': 131,\n",
       "  'start': '2023-06-23T17:00:00',\n",
       "  'end': '2023-06-27T09:00:00',\n",
       "  'batch': {'id': 50,\n",
       "   'number': 32,\n",
       "   'absoluteNumber': 34,\n",
       "   'start': '2023-06-18',\n",
       "   'end': '2023-07-12',\n",
       "   'hackathon': False,\n",
       "   'open': True,\n",
       "   'over': False},\n",
       "  'dataset': {'id': 11,\n",
       "   'name': 'master',\n",
       "   'description': 'all in one',\n",
       "   'hidden': False,\n",
       "   'leaderboardDisabled': False},\n",
       "  'updated': True,\n",
       "  'periods': {'white': 'P8D', 'red': 'P30D', 'green': 'P60D', 'blue': 'P90D'},\n",
       "  'inception': '2023-06-22',\n",
       "  'forcedStart': None,\n",
       "  'moonsDuration': 'P7D',\n",
       "  'negativePrevented': False,\n",
       "  'published': True,\n",
       "  'threadPoolSize': 4,\n",
       "  'minimumDaysForUsableTarget': 5,\n",
       "  'universeFile': 'hash_table',\n",
       "  'offset': 'P0D',\n",
       "  'benchmark': '^RUI',\n",
       "  'columnSuffix': '',\n",
       "  'metric': 'SPEARMAN',\n",
       "  'targetType': 'ALPHA_V5',\n",
       "  'open': False,\n",
       "  'over': True,\n",
       "  'batchId': 50,\n",
       "  'datasetId': 11,\n",
       "  'scoringStart': '2023-06-27'},\n",
       " 'live': True,\n",
       " 'forced_start': None,\n",
       " 'moons_duration': 'P7D',\n",
       " 'column_suffix': '',\n",
       " 'metric': 'SPEARMAN',\n",
       " 'dataset_id': 11,\n",
       " 'target_type': 'ALPHA_V5',\n",
       " 'inception': '2023-06-22',\n",
       " 'periods': {'white': 'P8D', 'red': 'P30D', 'green': 'P60D', 'blue': 'P90D'},\n",
       " 'minimum_days_for_usable_target': 5,\n",
       " 'start': '2023-06-27',\n",
       " 'updated': True,\n",
       " 'published': True,\n",
       " 'negative_prevented': False,\n",
       " 'thread_pool_size': 4,\n",
       " 'round_id': 156,\n",
       " 'first_of_inception': True,\n",
       " 'dataset_name': 'master'}"
      ]
     },
     "execution_count": 4,
     "metadata": {},
     "output_type": "execute_result"
    }
   ],
   "source": [
    "# Get the configuration of the current dataset\n",
    "client.dataset_config()"
   ]
  },
  {
   "attachments": {},
   "cell_type": "markdown",
   "metadata": {},
   "source": [
    "---"
   ]
  },
  {
   "attachments": {},
   "cell_type": "markdown",
   "metadata": {
    "id": "IRMjw7K4goY2",
    "tags": []
   },
   "source": [
    "## 1. Download data\n",
    "\n",
    "Each week we will provide you with four DataFrames:\n",
    "\n",
    "- X_train contains the features;\n",
    "- y_train contains the targets;\n",
    "- X_test contains the features you can use in your models;\n",
    "- example_prediction contains an example of the submission awaited.\n",
    "\n",
    "There are 4 targets you need to predict: target_w, target_r, target_g, and target_b.\n",
    "\n",
    "You can either download the data in the *.csv* or *.parquet* extension.\n",
    "The *.csv* will take longer to download and take up more space in the RAM."
   ]
  },
  {
   "cell_type": "code",
   "execution_count": 5,
   "metadata": {
    "id": "lzDnDouscYdO"
   },
   "outputs": [
    {
     "data": {
      "text/plain": [
       "['./X_train.parquet',\n",
       " './y_train.parquet',\n",
       " './X_test.parquet',\n",
       " './example_submission.parquet']"
      ]
     },
     "execution_count": 5,
     "metadata": {},
     "output_type": "execute_result"
    }
   ],
   "source": [
    "# Chose a file format between parquet and csv \n",
    "file_format = 'parquet'\n",
    "\n",
    "# Download current dataset\n",
    "client.download_data(directory=\".\", file_format=file_format)"
   ]
  },
  {
   "cell_type": "code",
   "execution_count": 6,
   "metadata": {
    "id": "aPfVnd0QgDu1"
   },
   "outputs": [],
   "source": [
    "if file_format == 'parquet':\n",
    "  # Data for training\n",
    "  train_features = pd.read_parquet(f'./X_train.{file_format}')\n",
    "  # Data for which you will submit your prediction\n",
    "  test_data = pd.read_parquet(f'./X_test.{file_format}')\n",
    "  # Targets use for your supervised training\n",
    "  train_targets = pd.read_parquet(f'./y_train.{file_format}')\n",
    "  # Exemple of an awaited submission\n",
    "  example_submission = pd.read_parquet(f'./example_submission.{file_format}')\n",
    "elif file_format == 'csv':\n",
    "  # Data for training\n",
    "  train_features = pd.read_csv(f'./X_train.{file_format}')\n",
    "  # Data for which you will submit your prediction\n",
    "  test_data = pd.read_csv(f'./X_test.{file_format}')\n",
    "  # Targets use for your supervised training\n",
    "  train_targets = pd.read_csv(f'./y_train.{file_format}')\n",
    "  # Exemple of an awaited submission\n",
    "  example_submission = pd.read_csv(f'./example_submission.{file_format}')"
   ]
  },
  {
   "cell_type": "code",
   "execution_count": 7,
   "metadata": {
    "id": "s27mjZWMmQms"
   },
   "outputs": [
    {
     "data": {
      "text/plain": [
       "0"
      ]
     },
     "execution_count": 7,
     "metadata": {},
     "output_type": "execute_result"
    }
   ],
   "source": [
    "# Merge train_features and train_targets for ease of use\n",
    "train_data = pd.merge(train_features, train_targets, on=['id', 'Moons'], how='inner')\n",
    "\n",
    "del train_features, train_targets\n",
    "gc.collect()"
   ]
  },
  {
   "cell_type": "code",
   "execution_count": 8,
   "metadata": {
    "id": "MfjoVR5-mS6R"
   },
   "outputs": [],
   "source": [
    "# Get the features columns name and the targets columns name\n",
    "features = [col for col in train_data.columns if 'Feature' in col]\n",
    "targets = [col for col in train_data.columns if 'target' in col]"
   ]
  },
  {
   "attachments": {},
   "cell_type": "markdown",
   "metadata": {},
   "source": [
    "---"
   ]
  },
  {
   "attachments": {},
   "cell_type": "markdown",
   "metadata": {
    "id": "2sngXvoomWpc",
    "tags": []
   },
   "source": [
    "## 2. Explore Data\n",
    "\n",
    "For a discussion on this, see the exploratory data analysis notebook [here](https://github.com/crunchdao/datacrunch-notebooks/blob/master/python/advanced_exploratory_data_analysis.ipynb)."
   ]
  },
  {
   "attachments": {},
   "cell_type": "markdown",
   "metadata": {},
   "source": [
    "---"
   ]
  },
  {
   "attachments": {},
   "cell_type": "markdown",
   "metadata": {
    "id": "vNXpPrTvmoga",
    "tags": []
   },
   "source": [
    "## 3. Model"
   ]
  },
  {
   "cell_type": "code",
   "execution_count": 109,
   "metadata": {
    "id": "LZQomfufmf0B"
   },
   "outputs": [],
   "source": [
    "\n",
    "\n",
    "def xg_boost_template(X_train, y_train, X_val, y_val, val_refs, target):\n",
    "    model = xgb.XGBRegressor(objective='reg:squarederror', max_depth=9, learning_rate=0.02, n_estimators=11, n_jobs=-1, colsample_bytree=1, subsample=1, min_child_weight=14, colsample_bylevel= 1, gamma=0)\n",
    "    model.fit(X_train, y_train[target], verbose=True)\n",
    "\n",
    "    # Test the spearman of your model on the X_test data\n",
    "    preds = pd.DataFrame(model.predict(X_val), columns=[target])\n",
    "    get_spearman_results(preds, y_val, val_refs)\n",
    "\n",
    "    return model\n",
    "\n",
    "def xg_boost_template_ex(X_train, y_train, X_val, y_val, val_refs, target, estimator):\n",
    "    model = xgb.XGBRegressor(objective='reg:squarederror', max_depth=9, learning_rate=0.02, n_estimators=estimator, n_jobs=-1, colsample_bytree=1, subsample=1, min_child_weight=14, colsample_bylevel= 1, gamma=0)\n",
    "    model.fit(X_train, y_train[target], verbose=True)\n",
    "\n",
    "    # Test the spearman of your model on the X_test data\n",
    "    preds = pd.DataFrame(model.predict(X_val), columns=[target])\n",
    "    get_spearman_results_ex(preds, y_val, val_refs, estimator)\n",
    "\n",
    "    return model\n",
    "\n",
    "def LGBM(X_train, y_train, X_val, y_val, val_refs, target):\n",
    "    model = lgb.LGBMRegressor(learning_rate=0.01,max_depth=-5,random_state=42)\n",
    "    model.fit(X_train,y_train[target],eval_metric='rmse')\n",
    "    \n",
    "    preds = pd.DataFrame(model.predict(X_val), columns=[target])\n",
    "    get_spearman_results(preds, y_val, val_refs)\n",
    "\n",
    "    return model"
   ]
  },
  {
   "attachments": {},
   "cell_type": "markdown",
   "metadata": {},
   "source": [
    "---"
   ]
  },
  {
   "attachments": {},
   "cell_type": "markdown",
   "metadata": {
    "id": "nIde5ObYms88"
   },
   "source": [
    "## 4. Scoring: Spearman's rank correlation of your predictions vs the targets"
   ]
  },
  {
   "cell_type": "code",
   "execution_count": 108,
   "metadata": {
    "id": "ZbVUiR-JmrC6"
   },
   "outputs": [],
   "source": [
    "def get_spearman_results(preds, y_val, val_refs):\n",
    "    preds.rename({f'{target}':f'pred_{target.split(\"_\")[1]}' for target in preds.columns}, axis=1, inplace=True)\n",
    "    preds_ref = pd.concat([preds.reset_index(drop=True), val_refs.reset_index(drop=True), y_val.reset_index(drop=True)], axis=1)\n",
    "    spearman = pd.DataFrame()\n",
    "    \n",
    "    target_suffixes = [col.split('_')[-1] for col in preds.columns if 'pred' in col]\n",
    "    for suffix in target_suffixes:\n",
    "        spearman[f'target_{suffix}'] = preds_ref.groupby('Moons')[[f'pred_{suffix}', f'target_{suffix}']].corr(method='spearman').unstack().iloc[:,1]\n",
    "\n",
    "    print(f'\\nSpearman score over the period :\\n{spearman.describe()}\\n')\n",
    "    return spearman\n",
    "\n",
    "def get_spearman_results_ex(preds, y_val, val_refs, estimator):\n",
    "    preds.rename({f'{target}':f'pred_{target.split(\"_\")[1]}' for target in preds.columns}, axis=1, inplace=True)\n",
    "    preds_ref = pd.concat([preds.reset_index(drop=True), val_refs.reset_index(drop=True), y_val.reset_index(drop=True)], axis=1)\n",
    "    spearman = pd.DataFrame()\n",
    "    \n",
    "    target_suffixes = [col.split('_')[-1] for col in preds.columns if 'pred' in col]\n",
    "    for suffix in target_suffixes:\n",
    "        spearman[f'target_{suffix}'] = preds_ref.groupby('Moons')[[f'pred_{suffix}', f'target_{suffix}']].corr(method='spearman').unstack().iloc[:,1]\n",
    "    print(f'\\nSpearman for {estimator} estimators score over the period :\\n{spearman.describe()}\\n')\n",
    "    return spearman"
   ]
  },
  {
   "attachments": {},
   "cell_type": "markdown",
   "metadata": {},
   "source": [
    "---"
   ]
  },
  {
   "attachments": {},
   "cell_type": "markdown",
   "metadata": {
    "id": "X2La0RATmwrz"
   },
   "source": [
    "## 5. Embargoed Train / Test split"
   ]
  },
  {
   "cell_type": "code",
   "execution_count": 81,
   "metadata": {
    "id": "YtWYjoUgmw-X"
   },
   "outputs": [],
   "source": [
    "def train_test_split(data):\n",
    "    number_of_moons = len(data['Moons'].unique())\n",
    "    embargo = 13 # Embargo between train and test set\n",
    "    proportion = 0.8\n",
    "\n",
    "    # Train on 80% of the first moons and test on 20% of the last moons\n",
    "    train_set = data[data['Moons'] < int(number_of_moons * proportion) - embargo]\n",
    "    test_set = data[data['Moons'] > int(number_of_moons * proportion)]\n",
    "\n",
    "    X_train = train_set[features]\n",
    "    y_train = train_set[targets]\n",
    "    X_test = test_set[features]\n",
    "    y_test = test_set[targets]\n",
    "    test_refs = test_set.iloc[:, :2]\n",
    "\n",
    "    return X_train, y_train, X_test, y_test, test_refs"
   ]
  },
  {
   "attachments": {},
   "cell_type": "markdown",
   "metadata": {},
   "source": [
    "---"
   ]
  },
  {
   "attachments": {},
   "cell_type": "markdown",
   "metadata": {
    "id": "3qVkISCIm0bX"
   },
   "source": [
    "## 6. Supervised training of a simple XGBoost"
   ]
  },
  {
   "cell_type": "code",
   "execution_count": 73,
   "metadata": {
    "id": "M32AN238m0s0"
   },
   "outputs": [],
   "source": [
    "# Split your data to validate your model\n",
    "X_train, y_train, X_val, y_val, val_refs = train_test_split(train_data)"
   ]
  },
  {
   "cell_type": "code",
   "execution_count": 110,
   "metadata": {
    "id": "Yyp9ry87m3j1"
   },
   "outputs": [
    {
     "name": "stdout",
     "output_type": "stream",
     "text": [
      "\n",
      "Spearman score over the period :\n",
      "        target_b\n",
      "count  73.000000\n",
      "mean   -0.022150\n",
      "std     0.144805\n",
      "min    -0.275744\n",
      "25%    -0.141551\n",
      "50%    -0.028717\n",
      "75%     0.098617\n",
      "max     0.299959\n",
      "\n"
     ]
    }
   ],
   "source": [
    "# Run your model on the different targets\n",
    "\"\"\"model = {}\n",
    "for target in targets:\n",
    "  model[f'xgb_model_{target}'] = xg_boost_template(X_train, y_train, X_val, y_val, val_refs, target)\"\"\"\n",
    "\n",
    "estimators=[2]\n",
    "models=[]\n",
    "for estimator in estimators:\n",
    "    models.append(LGBM(X_train, y_train, X_val, y_val, val_refs, target))\n",
    "\n"
   ]
  },
  {
   "attachments": {},
   "cell_type": "markdown",
   "metadata": {},
   "source": [
    "---"
   ]
  },
  {
   "attachments": {},
   "cell_type": "markdown",
   "metadata": {
    "id": "Wri3oY3ZnDup"
   },
   "source": [
    "## 7. Make prediction on the 4 targets\n",
    "\n",
    "When you feel like your model is accurate enough it's time to predict the targets and submit your results.\n",
    "\n",
    "Predict on the 4 targets, concatenate the answers and submit.\n",
    "\n",
    "1. **WARNING**  Be sure that your columns are named id, Moons, target_w, target_r, etc.\n",
    "\n",
    "2. **WARNING** Your prediction must be in [0, 1].\n",
    "\n",
    "3. **WARNING** Don't submit constant values.\n",
    "\n",
    "4. **WARNING** Submit the id and the moon columns."
   ]
  },
  {
   "cell_type": "code",
   "execution_count": 22,
   "metadata": {
    "id": "MsKa78bMnEAy"
   },
   "outputs": [],
   "source": [
    "prediction = test_data.iloc[:, :2]\n",
    "for target in targets:\n",
    "    prediction.loc[:, target] = model[f'xgb_model_{target}'].predict(test_data.iloc[:, 2:])"
   ]
  },
  {
   "attachments": {},
   "cell_type": "markdown",
   "metadata": {
    "id": "J0TasuS_nKN2"
   },
   "source": [
    "**Check your submission file**"
   ]
  },
  {
   "cell_type": "code",
   "execution_count": 30,
   "metadata": {
    "id": "wfVgBymanHb7"
   },
   "outputs": [
    {
     "data": {
      "text/html": [
       "<div>\n",
       "<style scoped>\n",
       "    .dataframe tbody tr th:only-of-type {\n",
       "        vertical-align: middle;\n",
       "    }\n",
       "\n",
       "    .dataframe tbody tr th {\n",
       "        vertical-align: top;\n",
       "    }\n",
       "\n",
       "    .dataframe thead th {\n",
       "        text-align: right;\n",
       "    }\n",
       "</style>\n",
       "<table border=\"1\" class=\"dataframe\">\n",
       "  <thead>\n",
       "    <tr style=\"text-align: right;\">\n",
       "      <th></th>\n",
       "      <th>id</th>\n",
       "      <th>Moons</th>\n",
       "      <th>target_w</th>\n",
       "      <th>target_r</th>\n",
       "      <th>target_g</th>\n",
       "      <th>target_b</th>\n",
       "    </tr>\n",
       "  </thead>\n",
       "  <tbody>\n",
       "    <tr>\n",
       "      <th>0</th>\n",
       "      <td>53174</td>\n",
       "      <td>370</td>\n",
       "      <td>0.497363</td>\n",
       "      <td>0.493858</td>\n",
       "      <td>0.500583</td>\n",
       "      <td>0.500254</td>\n",
       "    </tr>\n",
       "    <tr>\n",
       "      <th>1</th>\n",
       "      <td>167191</td>\n",
       "      <td>370</td>\n",
       "      <td>0.500289</td>\n",
       "      <td>0.499882</td>\n",
       "      <td>0.499862</td>\n",
       "      <td>0.501058</td>\n",
       "    </tr>\n",
       "    <tr>\n",
       "      <th>2</th>\n",
       "      <td>127094</td>\n",
       "      <td>370</td>\n",
       "      <td>0.500491</td>\n",
       "      <td>0.501243</td>\n",
       "      <td>0.501118</td>\n",
       "      <td>0.502040</td>\n",
       "    </tr>\n",
       "    <tr>\n",
       "      <th>3</th>\n",
       "      <td>115077</td>\n",
       "      <td>370</td>\n",
       "      <td>0.499218</td>\n",
       "      <td>0.499130</td>\n",
       "      <td>0.500716</td>\n",
       "      <td>0.500025</td>\n",
       "    </tr>\n",
       "    <tr>\n",
       "      <th>4</th>\n",
       "      <td>109783</td>\n",
       "      <td>370</td>\n",
       "      <td>0.500922</td>\n",
       "      <td>0.497900</td>\n",
       "      <td>0.503553</td>\n",
       "      <td>0.504149</td>\n",
       "    </tr>\n",
       "    <tr>\n",
       "      <th>...</th>\n",
       "      <td>...</td>\n",
       "      <td>...</td>\n",
       "      <td>...</td>\n",
       "      <td>...</td>\n",
       "      <td>...</td>\n",
       "      <td>...</td>\n",
       "    </tr>\n",
       "    <tr>\n",
       "      <th>11394</th>\n",
       "      <td>66866</td>\n",
       "      <td>383</td>\n",
       "      <td>0.500284</td>\n",
       "      <td>0.498289</td>\n",
       "      <td>0.499796</td>\n",
       "      <td>0.496772</td>\n",
       "    </tr>\n",
       "    <tr>\n",
       "      <th>11395</th>\n",
       "      <td>3476</td>\n",
       "      <td>383</td>\n",
       "      <td>0.501302</td>\n",
       "      <td>0.500216</td>\n",
       "      <td>0.509875</td>\n",
       "      <td>0.513133</td>\n",
       "    </tr>\n",
       "    <tr>\n",
       "      <th>11396</th>\n",
       "      <td>211774</td>\n",
       "      <td>383</td>\n",
       "      <td>0.499775</td>\n",
       "      <td>0.498610</td>\n",
       "      <td>0.499987</td>\n",
       "      <td>0.500254</td>\n",
       "    </tr>\n",
       "    <tr>\n",
       "      <th>11397</th>\n",
       "      <td>231760</td>\n",
       "      <td>383</td>\n",
       "      <td>0.503613</td>\n",
       "      <td>0.500763</td>\n",
       "      <td>0.497054</td>\n",
       "      <td>0.497529</td>\n",
       "    </tr>\n",
       "    <tr>\n",
       "      <th>11398</th>\n",
       "      <td>7302</td>\n",
       "      <td>383</td>\n",
       "      <td>0.499591</td>\n",
       "      <td>0.499837</td>\n",
       "      <td>0.499042</td>\n",
       "      <td>0.499492</td>\n",
       "    </tr>\n",
       "  </tbody>\n",
       "</table>\n",
       "<p>11399 rows × 6 columns</p>\n",
       "</div>"
      ],
      "text/plain": [
       "           id  Moons  target_w  target_r  target_g  target_b\n",
       "0       53174    370  0.497363  0.493858  0.500583  0.500254\n",
       "1      167191    370  0.500289  0.499882  0.499862  0.501058\n",
       "2      127094    370  0.500491  0.501243  0.501118  0.502040\n",
       "3      115077    370  0.499218  0.499130  0.500716  0.500025\n",
       "4      109783    370  0.500922  0.497900  0.503553  0.504149\n",
       "...       ...    ...       ...       ...       ...       ...\n",
       "11394   66866    383  0.500284  0.498289  0.499796  0.496772\n",
       "11395    3476    383  0.501302  0.500216  0.509875  0.513133\n",
       "11396  211774    383  0.499775  0.498610  0.499987  0.500254\n",
       "11397  231760    383  0.503613  0.500763  0.497054  0.497529\n",
       "11398    7302    383  0.499591  0.499837  0.499042  0.499492\n",
       "\n",
       "[11399 rows x 6 columns]"
      ]
     },
     "execution_count": 30,
     "metadata": {},
     "output_type": "execute_result"
    }
   ],
   "source": [
    "prediction"
   ]
  },
  {
   "cell_type": "code",
   "execution_count": 16,
   "metadata": {
    "id": "RGHKnsURf6il"
   },
   "outputs": [
    {
     "name": "stdout",
     "output_type": "stream",
     "text": [
      "Submission: OK\n"
     ]
    }
   ],
   "source": [
    "def check_columns_name(df, sub):\n",
    "    if sub.columns.tolist() != df.columns.tolist():\n",
    "        raise Exception('Columns name are different from what is expected')\n",
    "\n",
    "def check_nans(sub):\n",
    "    if sub.isna().sum().sum() > 0:\n",
    "        raise Exception('NaNs detected')\n",
    "\n",
    "def check_values(sub, targets):\n",
    "    for target in targets:\n",
    "      if (sub.loc[:, target].values > 1).any() or (sub.loc[:, target].values < 0).any():\n",
    "          raise Exception('Values are not between 0 and 1')\n",
    "\n",
    "def check_moons(df, sub):\n",
    "    if set(df['Moons'].unique()) != set(sub['Moons'].unique()):\n",
    "        raise Exception('Moons are different from what is expected')\n",
    "\n",
    "def check_ids(df, sub, moon):\n",
    "    if not set(sub[sub['Moons'] == moon]['id'].unique()) == set(df[df['Moons'] == moon]['id'].unique()):\n",
    "        raise Exception('At least an id is missing')\n",
    "\n",
    "def check_constants(sub, moon, targets):\n",
    "    for target in targets:\n",
    "        if sub[sub['Moons'] == moon][target].nunique() == 1:\n",
    "            raise Exception('Constant values have been detected on a moon')\n",
    "\n",
    "try:\n",
    "    check_columns_name(example_submission, prediction)\n",
    "    check_nans(prediction)\n",
    "    check_values(prediction, targets)\n",
    "    check_moons(example_submission, prediction)\n",
    "    for moon in prediction['Moons'].unique():\n",
    "        check_ids(example_submission, prediction, moon)\n",
    "        check_constants(prediction, moon, targets)\n",
    "    print(f'Submission: OK')\n",
    "except Exception as e:\n",
    "    print(f'Error: {e}')"
   ]
  },
  {
   "attachments": {},
   "cell_type": "markdown",
   "metadata": {},
   "source": [
    "---"
   ]
  },
  {
   "attachments": {},
   "cell_type": "markdown",
   "metadata": {
    "id": "44rcH-bZnaYd"
   },
   "source": [
    "## 8. Submit predictions"
   ]
  },
  {
   "cell_type": "code",
   "execution_count": 66,
   "metadata": {},
   "outputs": [],
   "source": [
    "prediction.to_csv('prediction.csv')"
   ]
  },
  {
   "cell_type": "code",
   "execution_count": 67,
   "metadata": {
    "id": "E-fnLyNaf9CV"
   },
   "outputs": [
    {
     "name": "stderr",
     "output_type": "stream",
     "text": [
      "submissions are closed\n"
     ]
    }
   ],
   "source": [
    "# Upload predictions\n",
    "submission_id = client.upload(prediction)"
   ]
  },
  {
   "cell_type": "code",
   "execution_count": 68,
   "metadata": {
    "id": "opfmKq8Yi4ns"
   },
   "outputs": [
    {
     "name": "stderr",
     "output_type": "stream",
     "text": [
      "setting comment failed\n",
      "b'{\"code\":\"ARGUMENT_TYPE_MISMATCH\",\"message\":\"Failed to convert value of type \\'java.lang.String\\' to required type \\'long\\'; For input string: \\\\\"None\\\\\"\",\"expectedType\":\"long\",\"property\":\"id\",\"rejectedValue\":\"None\"}'\n"
     ]
    }
   ],
   "source": [
    "# Set a comment for the submission, to remember which model that is, etc...\n",
    "client.set_comment(submission_id, \"quickstart model\")"
   ]
  },
  {
   "cell_type": "code",
   "execution_count": 69,
   "metadata": {
    "id": "WVP4EiUxneKp"
   },
   "outputs": [
    {
     "ename": "ModuleNotFoundError",
     "evalue": "No module named 'google.colab'",
     "output_type": "error",
     "traceback": [
      "\u001b[0;31m---------------------------------------------------------------------------\u001b[0m",
      "\u001b[0;31mModuleNotFoundError\u001b[0m                       Traceback (most recent call last)",
      "Cell \u001b[0;32mIn[69], line 2\u001b[0m\n\u001b[1;32m      1\u001b[0m \u001b[39m# Download your prediction file if you prefer submitting through the website\u001b[39;00m\n\u001b[0;32m----> 2\u001b[0m \u001b[39mfrom\u001b[39;00m \u001b[39mgoogle\u001b[39;00m\u001b[39m.\u001b[39;00m\u001b[39mcolab\u001b[39;00m \u001b[39mimport\u001b[39;00m files\n\u001b[1;32m      3\u001b[0m \u001b[39mwith\u001b[39;00m \u001b[39mopen\u001b[39m(\u001b[39m\"\u001b[39m\u001b[39mprediction.csv\u001b[39m\u001b[39m\"\u001b[39m, \u001b[39m\"\u001b[39m\u001b[39mwb\u001b[39m\u001b[39m\"\u001b[39m) \u001b[39mas\u001b[39;00m f:\n\u001b[1;32m      4\u001b[0m     f\u001b[39m.\u001b[39mwrite(prediction\u001b[39m.\u001b[39mto_csv(index\u001b[39m=\u001b[39m\u001b[39mFalse\u001b[39;00m)\u001b[39m.\u001b[39mencode(\u001b[39m'\u001b[39m\u001b[39mascii\u001b[39m\u001b[39m'\u001b[39m))\n",
      "\u001b[0;31mModuleNotFoundError\u001b[0m: No module named 'google.colab'"
     ]
    }
   ],
   "source": [
    "# Download your prediction file if you prefer submitting through the website\n",
    "from google.colab import files\n",
    "with open(\"prediction.csv\", \"wb\") as f:\n",
    "    f.write(prediction.to_csv(index=False).encode('ascii'))\n",
    "files.download('prediction.csv')"
   ]
  },
  {
   "cell_type": "code",
   "execution_count": 31,
   "metadata": {
    "id": "sKIwtJ2ofp7U"
   },
   "outputs": [
    {
     "ename": "KeyError",
     "evalue": "\"None of ['id'] are in the columns\"",
     "output_type": "error",
     "traceback": [
      "\u001b[0;31m---------------------------------------------------------------------------\u001b[0m",
      "\u001b[0;31mKeyError\u001b[0m                                  Traceback (most recent call last)",
      "\u001b[0;32m/var/folders/8y/w13bxlj534g002y4ctp0nqq40000gn/T/ipykernel_24050/3120286060.py\u001b[0m in \u001b[0;36m?\u001b[0;34m()\u001b[0m\n\u001b[1;32m      1\u001b[0m \u001b[0;31m# Check your past submissions\u001b[0m\u001b[0;34m\u001b[0m\u001b[0;34m\u001b[0m\u001b[0m\n\u001b[0;32m----> 2\u001b[0;31m client.submissions(\n\u001b[0m\u001b[1;32m      3\u001b[0m     \u001b[0muser_id\u001b[0m\u001b[0;34m=\u001b[0m\u001b[0;32mNone\u001b[0m\u001b[0;34m,\u001b[0m \u001b[0;31m# None is your id by default\u001b[0m\u001b[0;34m\u001b[0m\u001b[0;34m\u001b[0m\u001b[0m\n\u001b[1;32m      4\u001b[0m     \u001b[0mround_num\u001b[0m\u001b[0;34m=\u001b[0m\u001b[0;32mNone\u001b[0m \u001b[0;31m# None shows all the round by default\u001b[0m\u001b[0;34m\u001b[0m\u001b[0;34m\u001b[0m\u001b[0m\n\u001b[1;32m      5\u001b[0m     )\n",
      "\u001b[0;32m/opt/homebrew/lib/python3.11/site-packages/crunchdao/api.py\u001b[0m in \u001b[0;36m?\u001b[0;34m(self, user_id, round_num)\u001b[0m\n\u001b[1;32m    196\u001b[0m                                 \"evaluatedAt\": \"eval_ts\"}, inplace=True)\n\u001b[1;32m    197\u001b[0m         general.drop([\"user\", \"userId\", \"fileMetadata\"],\n\u001b[1;32m    198\u001b[0m                      axis=1, inplace=True, errors=\"ignore\")\n\u001b[1;32m    199\u001b[0m         \u001b[0mdf\u001b[0m \u001b[0;34m=\u001b[0m \u001b[0mpd\u001b[0m\u001b[0;34m.\u001b[0m\u001b[0mconcat\u001b[0m\u001b[0;34m(\u001b[0m\u001b[0;34m[\u001b[0m\u001b[0muser\u001b[0m\u001b[0;34m,\u001b[0m \u001b[0mgeneral\u001b[0m\u001b[0;34m,\u001b[0m \u001b[0mfile_meta\u001b[0m\u001b[0;34m]\u001b[0m\u001b[0;34m,\u001b[0m \u001b[0maxis\u001b[0m\u001b[0;34m=\u001b[0m\u001b[0;36m1\u001b[0m\u001b[0;34m)\u001b[0m\u001b[0;34m\u001b[0m\u001b[0;34m\u001b[0m\u001b[0m\n\u001b[0;32m--> 200\u001b[0;31m         \u001b[0mdf\u001b[0m\u001b[0;34m.\u001b[0m\u001b[0mset_index\u001b[0m\u001b[0;34m(\u001b[0m\u001b[0;34m\"id\"\u001b[0m\u001b[0;34m,\u001b[0m \u001b[0minplace\u001b[0m\u001b[0;34m=\u001b[0m\u001b[0;32mTrue\u001b[0m\u001b[0;34m)\u001b[0m\u001b[0;34m\u001b[0m\u001b[0;34m\u001b[0m\u001b[0m\n\u001b[0m\u001b[1;32m    201\u001b[0m \u001b[0;34m\u001b[0m\u001b[0m\n\u001b[1;32m    202\u001b[0m         \u001b[0;31m# convert CamelCase to snake_case\u001b[0m\u001b[0;34m\u001b[0m\u001b[0;34m\u001b[0m\u001b[0m\n\u001b[1;32m    203\u001b[0m         \u001b[0mdf\u001b[0m\u001b[0;34m.\u001b[0m\u001b[0mcolumns\u001b[0m \u001b[0;34m=\u001b[0m \u001b[0;34m[\u001b[0m\u001b[0minflection\u001b[0m\u001b[0;34m.\u001b[0m\u001b[0munderscore\u001b[0m\u001b[0;34m(\u001b[0m\u001b[0mcol\u001b[0m\u001b[0;34m)\u001b[0m \u001b[0;32mfor\u001b[0m \u001b[0mcol\u001b[0m \u001b[0;32min\u001b[0m \u001b[0mdf\u001b[0m\u001b[0;34m.\u001b[0m\u001b[0mcolumns\u001b[0m\u001b[0;34m]\u001b[0m\u001b[0;34m\u001b[0m\u001b[0;34m\u001b[0m\u001b[0m\n",
      "\u001b[0;32m/opt/homebrew/lib/python3.11/site-packages/pandas/util/_decorators.py\u001b[0m in \u001b[0;36m?\u001b[0;34m(*args, **kwargs)\u001b[0m\n\u001b[1;32m    327\u001b[0m                     \u001b[0mmsg\u001b[0m\u001b[0;34m.\u001b[0m\u001b[0mformat\u001b[0m\u001b[0;34m(\u001b[0m\u001b[0marguments\u001b[0m\u001b[0;34m=\u001b[0m\u001b[0m_format_argument_list\u001b[0m\u001b[0;34m(\u001b[0m\u001b[0mallow_args\u001b[0m\u001b[0;34m)\u001b[0m\u001b[0;34m)\u001b[0m\u001b[0;34m,\u001b[0m\u001b[0;34m\u001b[0m\u001b[0;34m\u001b[0m\u001b[0m\n\u001b[1;32m    328\u001b[0m                     \u001b[0mFutureWarning\u001b[0m\u001b[0;34m,\u001b[0m\u001b[0;34m\u001b[0m\u001b[0;34m\u001b[0m\u001b[0m\n\u001b[1;32m    329\u001b[0m                     \u001b[0mstacklevel\u001b[0m\u001b[0;34m=\u001b[0m\u001b[0mfind_stack_level\u001b[0m\u001b[0;34m(\u001b[0m\u001b[0;34m)\u001b[0m\u001b[0;34m,\u001b[0m\u001b[0;34m\u001b[0m\u001b[0;34m\u001b[0m\u001b[0m\n\u001b[1;32m    330\u001b[0m                 )\n\u001b[0;32m--> 331\u001b[0;31m             \u001b[0;32mreturn\u001b[0m \u001b[0mfunc\u001b[0m\u001b[0;34m(\u001b[0m\u001b[0;34m*\u001b[0m\u001b[0margs\u001b[0m\u001b[0;34m,\u001b[0m \u001b[0;34m**\u001b[0m\u001b[0mkwargs\u001b[0m\u001b[0;34m)\u001b[0m\u001b[0;34m\u001b[0m\u001b[0;34m\u001b[0m\u001b[0m\n\u001b[0m",
      "\u001b[0;32m/opt/homebrew/lib/python3.11/site-packages/pandas/core/frame.py\u001b[0m in \u001b[0;36m?\u001b[0;34m(self, keys, drop, append, inplace, verify_integrity)\u001b[0m\n\u001b[1;32m   6008\u001b[0m                     \u001b[0;32mif\u001b[0m \u001b[0;32mnot\u001b[0m \u001b[0mfound\u001b[0m\u001b[0;34m:\u001b[0m\u001b[0;34m\u001b[0m\u001b[0;34m\u001b[0m\u001b[0m\n\u001b[1;32m   6009\u001b[0m                         \u001b[0mmissing\u001b[0m\u001b[0;34m.\u001b[0m\u001b[0mappend\u001b[0m\u001b[0;34m(\u001b[0m\u001b[0mcol\u001b[0m\u001b[0;34m)\u001b[0m\u001b[0;34m\u001b[0m\u001b[0;34m\u001b[0m\u001b[0m\n\u001b[1;32m   6010\u001b[0m \u001b[0;34m\u001b[0m\u001b[0m\n\u001b[1;32m   6011\u001b[0m         \u001b[0;32mif\u001b[0m \u001b[0mmissing\u001b[0m\u001b[0;34m:\u001b[0m\u001b[0;34m\u001b[0m\u001b[0;34m\u001b[0m\u001b[0m\n\u001b[0;32m-> 6012\u001b[0;31m             \u001b[0;32mraise\u001b[0m \u001b[0mKeyError\u001b[0m\u001b[0;34m(\u001b[0m\u001b[0;34mf\"None of {missing} are in the columns\"\u001b[0m\u001b[0;34m)\u001b[0m\u001b[0;34m\u001b[0m\u001b[0;34m\u001b[0m\u001b[0m\n\u001b[0m\u001b[1;32m   6013\u001b[0m \u001b[0;34m\u001b[0m\u001b[0m\n\u001b[1;32m   6014\u001b[0m         \u001b[0;32mif\u001b[0m \u001b[0minplace\u001b[0m\u001b[0;34m:\u001b[0m\u001b[0;34m\u001b[0m\u001b[0;34m\u001b[0m\u001b[0m\n\u001b[1;32m   6015\u001b[0m             \u001b[0mframe\u001b[0m \u001b[0;34m=\u001b[0m \u001b[0mself\u001b[0m\u001b[0;34m\u001b[0m\u001b[0;34m\u001b[0m\u001b[0m\n",
      "\u001b[0;31mKeyError\u001b[0m: \"None of ['id'] are in the columns\""
     ]
    }
   ],
   "source": [
    "# Check your past submissions\n",
    "client.submissions(\n",
    "    user_id=None, # None is your id by default \n",
    "    round_num=None # None shows all the round by default\n",
    "    )"
   ]
  },
  {
   "attachments": {},
   "cell_type": "markdown",
   "metadata": {},
   "source": [
    "---"
   ]
  },
  {
   "attachments": {},
   "cell_type": "markdown",
   "metadata": {
    "id": "gHi8HLtVnt5-",
    "tags": []
   },
   "source": [
    "## Useful links\n",
    "\n",
    "**Website**\n",
    "\n",
    "- https://www.crunchdao.com/\n",
    "\n",
    "**Social media**\n",
    "- discord : https://discord.gg/9wvzxS7A (come say hi! 😉)\n",
    "- twitter : https://twitter.com/CrunchDAO\n",
    "- linkedin : https://www.linkedin.com/company/crunchdao-com/\n",
    "- reddit : https://www.reddit.com/r/crunchdao/\n",
    "\n",
    "**Documentation**\n",
    "\n",
    "- https://docs.crunchdao.com/tournament/getting-started\n",
    "\n",
    "**Github**\n",
    "\n",
    "- https://github.com/crunchdao/\n",
    "- https://github.com/uuazed/crunchdao\n",
    "\n",
    "**DeSci - research framework**\n",
    "\n",
    "- https://desci.crunchdao.com/projects/crunchdao"
   ]
  }
 ],
 "metadata": {
  "colab": {
   "provenance": []
  },
  "kernelspec": {
   "display_name": "Python 3",
   "language": "python",
   "name": "python3"
  },
  "language_info": {
   "codemirror_mode": {
    "name": "ipython",
    "version": 3
   },
   "file_extension": ".py",
   "mimetype": "text/x-python",
   "name": "python",
   "nbconvert_exporter": "python",
   "pygments_lexer": "ipython3",
   "version": "3.11.3"
  },
  "vscode": {
   "interpreter": {
    "hash": "089b01a02bffe9aaebf7c1d1c15dfcabf0b6eb8680835f8b4303bc7c7964f23e"
   }
  }
 },
 "nbformat": 4,
 "nbformat_minor": 4
}
